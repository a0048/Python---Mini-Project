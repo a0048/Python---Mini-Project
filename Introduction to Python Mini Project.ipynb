{
 "cells": [
  {
   "cell_type": "markdown",
   "metadata": {},
   "source": [
    "Q1. Create a Dictionary of lists to store the information of shipments given in the table"
   ]
  },
  {
   "cell_type": "code",
   "execution_count": 1,
   "metadata": {},
   "outputs": [
    {
     "name": "stdout",
     "output_type": "stream",
     "text": [
      "{'Shipment id': ['sender', 'receiver', 'start date', 'Delivery Date', 'Sender_location', 'Receiver_location', 'Delivery status', 'Shipping cost'], 101: [1, 3, '14-03-2020', '25-03-2020', 'Area 1', 'Area 6', 'Delivered', 198], 102: [4, 1, '18-06-2020', '09-07-2020', 'Area 2', 'Area 4', 'Delivered', 275], 103: [2, 3, '01-12-2020', None, 'Area 5', 'Area 1', 'In Transit', 200], 104: [1, 5, '23-06-2020', '25-06-2020', 'Area 1', 'Area 4', 'Delivered', 314], 105: [3, 4, '29-08-2020', '10-09-2020', 'Area 5', 'Area 3', 'Delivered', 275], 106: [5, 2, '28-06-2020', None, 'Area 3', 'Area 1', 'In Transit', 270]}\n"
     ]
    }
   ],
   "source": [
    "shipments = {'Shipment id' :['sender', 'receiver', 'start date', 'Delivery Date', 'Sender_location', 'Receiver_location', 'Delivery status', 'Shipping cost'],\n",
    "101:[1,3,'14-03-2020','25-03-2020','Area 1','Area 6','Delivered',198],\n",
    "102:[4,1,'18-06-2020','09-07-2020','Area 2','Area 4','Delivered',275],\n",
    "103:[2,3,'01-12-2020',None,'Area 5','Area 1','In Transit',200],\n",
    "104:[1,5,'23-06-2020','25-06-2020','Area 1','Area 4','Delivered',314],\n",
    "105:[3,4,'29-08-2020','10-09-2020','Area 5','Area 3','Delivered',275],\n",
    "106:[5,2,'28-06-2020',None,'Area 3','Area 1','In Transit',270]}          \n",
    "\n",
    "print(shipments)"
   ]
  },
  {
   "cell_type": "markdown",
   "metadata": {},
   "source": [
    "Q2. Create a Dictionary of to store the information of clients given in the table."
   ]
  },
  {
   "cell_type": "code",
   "execution_count": 2,
   "metadata": {},
   "outputs": [
    {
     "data": {
      "text/plain": [
       "{'client_id': [1, 2, 3, 4, 5],\n",
       " 'client_name': ['Phillip', 'Omega lll', 'Ramya', 'Romesh', 'John']}"
      ]
     },
     "execution_count": 2,
     "metadata": {},
     "output_type": "execute_result"
    }
   ],
   "source": [
    "client = { 'client_id':[1,2,3,4,5],'client_name':['Phillip','Omega lll','Ramya','Romesh','John']}\n",
    "client\n",
    "            "
   ]
  },
  {
   "cell_type": "markdown",
   "metadata": {},
   "source": [
    "Q3. Write a code to replace client’s id with their respective name in shipment dictionary using a loop and dictionary comprehension"
   ]
  },
  {
   "cell_type": "code",
   "execution_count": 3,
   "metadata": {},
   "outputs": [
    {
     "data": {
      "text/plain": [
       "{'Shipment id': ['sender',\n",
       "  'receiver',\n",
       "  'start date',\n",
       "  'Delivery Date',\n",
       "  'Sender_location',\n",
       "  'Receiver_location',\n",
       "  'Delivery status',\n",
       "  'Shipping cost'],\n",
       " 101: ['Phillip',\n",
       "  'Ramya',\n",
       "  '14-03-2020',\n",
       "  '25-03-2020',\n",
       "  'Area 1',\n",
       "  'Area 6',\n",
       "  'Delivered',\n",
       "  198],\n",
       " 102: ['Romesh',\n",
       "  'Phillip',\n",
       "  '18-06-2020',\n",
       "  '09-07-2020',\n",
       "  'Area 2',\n",
       "  'Area 4',\n",
       "  'Delivered',\n",
       "  275],\n",
       " 103: ['Omega lll',\n",
       "  'Ramya',\n",
       "  '01-12-2020',\n",
       "  None,\n",
       "  'Area 5',\n",
       "  'Area 1',\n",
       "  'In Transit',\n",
       "  200],\n",
       " 104: ['Phillip',\n",
       "  'John',\n",
       "  '23-06-2020',\n",
       "  '25-06-2020',\n",
       "  'Area 1',\n",
       "  'Area 4',\n",
       "  'Delivered',\n",
       "  314],\n",
       " 105: ['Ramya',\n",
       "  'Romesh',\n",
       "  '29-08-2020',\n",
       "  '10-09-2020',\n",
       "  'Area 5',\n",
       "  'Area 3',\n",
       "  'Delivered',\n",
       "  275],\n",
       " 106: ['John',\n",
       "  'Omega lll',\n",
       "  '28-06-2020',\n",
       "  None,\n",
       "  'Area 3',\n",
       "  'Area 1',\n",
       "  'In Transit',\n",
       "  270]}"
      ]
     },
     "execution_count": 3,
     "metadata": {},
     "output_type": "execute_result"
    }
   ],
   "source": [
    "d1 ={i:client['client_name'][i-1] for i in client['client_id']}\n",
    "for i in range (101,107):\n",
    "    shipments[i][0:2]= [d1[i] for i in shipments[i][0:2]]\n",
    "shipments\n"
   ]
  },
  {
   "cell_type": "markdown",
   "metadata": {},
   "source": [
    "#Q4. Print all shipment details that are sent by Phillip"
   ]
  },
  {
   "cell_type": "code",
   "execution_count": 4,
   "metadata": {},
   "outputs": [
    {
     "name": "stdout",
     "output_type": "stream",
     "text": [
      "{'Shipment id': ['sender', 'receiver', 'start date', 'Delivery Date', 'Sender_location', 'Receiver_location', 'Delivery status', 'Shipping cost'], 101: ['Phillip', 'Ramya', '14-03-2020', '25-03-2020', 'Area 1', 'Area 6', 'Delivered', 198], 104: ['Phillip', 'John', '23-06-2020', '25-06-2020', 'Area 1', 'Area 4', 'Delivered', 314]}\n"
     ]
    }
   ],
   "source": [
    "a = {}\n",
    "for i in shipments.keys():\n",
    "    if i =='Shipment id':\n",
    "        a[i] = shipments[i]\n",
    "    if shipments[i][0] == 'Phillip':\n",
    "        a[i] = shipments[i]\n",
    "print(a)"
   ]
  },
  {
   "cell_type": "markdown",
   "metadata": {},
   "source": [
    "#Q5. Print all shipment details that are received by Ramya"
   ]
  },
  {
   "cell_type": "code",
   "execution_count": 5,
   "metadata": {},
   "outputs": [
    {
     "name": "stdout",
     "output_type": "stream",
     "text": [
      "{'Shipment id': ['sender', 'receiver', 'start date', 'Delivery Date', 'Sender_location', 'Receiver_location', 'Delivery status', 'Shipping cost'], 105: ['Ramya', 'Romesh', '29-08-2020', '10-09-2020', 'Area 5', 'Area 3', 'Delivered', 275]}\n"
     ]
    }
   ],
   "source": [
    "a = {}\n",
    "for i in shipments.keys():\n",
    "    if i =='Shipment id':\n",
    "        a[i] = shipments[i]\n",
    "    if shipments[i][0] == 'Ramya':\n",
    "        a[i] = shipments[i]\n",
    "print(a)"
   ]
  },
  {
   "cell_type": "markdown",
   "metadata": {},
   "source": [
    "#Q6. Print all shipments which are in 'In-Transit' status"
   ]
  },
  {
   "cell_type": "code",
   "execution_count": 6,
   "metadata": {},
   "outputs": [
    {
     "name": "stdout",
     "output_type": "stream",
     "text": [
      "{'Shipment id': ['sender', 'receiver', 'start date', 'Delivery Date', 'Sender_location', 'Receiver_location', 'Delivery status', 'Shipping cost'], 103: ['Omega lll', 'Ramya', '01-12-2020', None, 'Area 5', 'Area 1', 'In Transit', 200], 106: ['John', 'Omega lll', '28-06-2020', None, 'Area 3', 'Area 1', 'In Transit', 270]}\n"
     ]
    }
   ],
   "source": [
    "a = {}\n",
    "for i in shipments.keys():\n",
    "    if i =='Shipment id':\n",
    "        a[i] = shipments[i]\n",
    "    if shipments[i][6] == 'In Transit': \n",
    "        \n",
    "        a[i] = shipments[i]\n",
    "print(a)"
   ]
  },
  {
   "cell_type": "markdown",
   "metadata": {},
   "source": [
    "#Q7. Print all shipments which are delivered within 7 days of courier Start date  "
   ]
  },
  {
   "cell_type": "code",
   "execution_count": 7,
   "metadata": {},
   "outputs": [
    {
     "name": "stdout",
     "output_type": "stream",
     "text": [
      "{'Shipment id': ['sender', 'receiver', 'start date', 'Delivery Date', 'Sender_location', 'Receiver_location', 'Delivery status', 'Shipping cost'], 104: ['Phillip', 'John', '23-06-2020', '25-06-2020', 'Area 1', 'Area 4', 'Delivered', 314]}\n"
     ]
    }
   ],
   "source": [
    "import datetime\n",
    "d ={}\n",
    "for i in shipments.keys():\n",
    "        if i  == 'Shipment id':\n",
    "            d[i] = shipments[i]     \n",
    "        else:\n",
    "            if shipments[i][-2] != 'In Transit':\n",
    "                StartDateArray = (shipments[i][2]).split('-')\n",
    "                syear = int(StartDateArray[2])\n",
    "                smonth = int(StartDateArray[1])\n",
    "                sdate = int(StartDateArray[0])\n",
    "                startDate = (datetime.datetime(syear,smonth, sdate))\n",
    "                \n",
    "                EndDateArray = (shipments[i][3]).split('-')\n",
    "                eyear = int(EndDateArray[2])\n",
    "                emonth = int(EndDateArray[1])\n",
    "                edate = int(EndDateArray[0])\n",
    "                endDate = (datetime.datetime(eyear,emonth, edate))\n",
    "                \n",
    "                difference = (endDate-startDate).days\n",
    "                if difference<=7:\n",
    "                    d[i] = shipments[i] \n",
    "print(d)"
   ]
  },
  {
   "cell_type": "markdown",
   "metadata": {},
   "source": [
    "Q8. Print all shipments which are delivered after 15 days of courier start date or not yet been delivered."
   ]
  },
  {
   "cell_type": "code",
   "execution_count": 8,
   "metadata": {},
   "outputs": [
    {
     "name": "stdout",
     "output_type": "stream",
     "text": [
      "{'Shipment id': ['sender', 'receiver', 'start date', 'Delivery Date', 'Sender_location', 'Receiver_location', 'Delivery status', 'Shipping cost'], 102: ['Romesh', 'Phillip', '18-06-2020', '09-07-2020', 'Area 2', 'Area 4', 'Delivered', 275], 103: ['Omega lll', 'Ramya', '01-12-2020', None, 'Area 5', 'Area 1', 'In Transit', 200], 106: ['John', 'Omega lll', '28-06-2020', None, 'Area 3', 'Area 1', 'In Transit', 270]}\n"
     ]
    }
   ],
   "source": [
    "import datetime\n",
    "d ={}\n",
    "for i in shipments.keys():\n",
    "        if i  == 'Shipment id':\n",
    "            d[i] = shipments[i]     \n",
    "        else:\n",
    "            if shipments[i][-2] == 'Delivered':\n",
    "                StartDateArray = (shipments[i][2]).split('-')\n",
    "                syear = int(StartDateArray[2])\n",
    "                smonth = int(StartDateArray[1])\n",
    "                sdate = int(StartDateArray[0])\n",
    "                startDate = (datetime.datetime(syear,smonth, sdate))\n",
    "                \n",
    "                EndDateArray = (shipments[i][3]).split('-')\n",
    "                eyear = int(EndDateArray[2])\n",
    "                emonth = int(EndDateArray[1])\n",
    "                edate = int(EndDateArray[0])\n",
    "                endDate = (datetime.datetime(eyear,emonth, edate))\n",
    "                \n",
    "                difference = (endDate-startDate).days\n",
    "                if difference > 15:\n",
    "                    d[i] = shipments[i] \n",
    "            if(shipments[i][-2] == 'In Transit'):\n",
    "                 d[i] = shipments[i]\n",
    "print(d)"
   ]
  },
  {
   "cell_type": "markdown",
   "metadata": {},
   "source": [
    "Q 9. Write a function find_all_routes to display all possible routes from senders location to receivers location given in the dictionary for each shipment."
   ]
  },
  {
   "cell_type": "code",
   "execution_count": 21,
   "metadata": {},
   "outputs": [],
   "source": [
    "def find_all_paths(matrix, start,end, visited,path):\n",
    "    \n",
    "    visited[start]=True     #  start and end are node points we check  and  path  initially is empty list\n",
    "                            # visited[start]=True  means  the path  has been  visited  by the node\n",
    "                           #Here if visited[i]=False means the path has  not  been  visited   by  the node  \n",
    "    \n",
    "    path.append(start+1)           # we append the start node to   the path\n",
    "    if start==end:\n",
    "        print('path is :',path)\n",
    "    else:\n",
    "        for i in range(6):            #here we check  for the below two  conditions , if satisfies  we use the \n",
    "                                       #recursion  condition  to  check  the remaining paths....\n",
    "            \n",
    "            if matrix[start][i]==1  and (visited[i]==False):\n",
    "                  find_all_paths(matrix, i, end,visited, path)    \n",
    "\n",
    "    path.pop()           # we finally  clear the path  after the getting  final  path  for the next  call  by  the function\n",
    "                         #to  find remaining  paths\n",
    "    visited[start]=False\n",
    "    \n",
    "visited=[False for i in  range(6)]\n",
    "matrix=[[0,1,0,0,0,1],\n",
    "       [1,0,1,1,0,0],\n",
    "       [0,1,0,1,0,0],\n",
    "       [0,1,1,0,1,0],\n",
    "       [0,0,0,1,0,0],\n",
    "       [1,0,0,0,0,0]]\n",
    "path=[]"
   ]
  },
  {
   "cell_type": "code",
   "execution_count": 22,
   "metadata": {},
   "outputs": [
    {
     "name": "stdout",
     "output_type": "stream",
     "text": [
      "Shipment_id: Shipment id\n",
      "\r\n",
      "Shipment_id: 101\n",
      "\r\n",
      "Sender location: 1\n",
      "Receiver Location: 6\n",
      "All routes\n",
      "path is : [6, 1]\n",
      "\r\n",
      "Shipment_id: 102\n",
      "\r\n",
      "Sender location: 2\n",
      "Receiver Location: 4\n",
      "All routes\n",
      "path is : [4, 2]\n",
      "path is : [4, 3, 2]\n",
      "\r\n",
      "Shipment_id: 103\n",
      "\r\n",
      "Sender location: 5\n",
      "Receiver Location: 1\n",
      "All routes\n",
      "path is : [1, 2, 3, 4, 5]\n",
      "path is : [1, 2, 4, 5]\n",
      "\r\n",
      "Shipment_id: 104\n",
      "\r\n",
      "Sender location: 1\n",
      "Receiver Location: 4\n",
      "All routes\n",
      "path is : [4, 2, 1]\n",
      "path is : [4, 3, 2, 1]\n",
      "\r\n",
      "Shipment_id: 105\n",
      "\r\n",
      "Sender location: 5\n",
      "Receiver Location: 3\n",
      "All routes\n",
      "path is : [3, 2, 4, 5]\n",
      "path is : [3, 4, 5]\n",
      "\r\n",
      "Shipment_id: 106\n",
      "\r\n",
      "Sender location: 3\n",
      "Receiver Location: 1\n",
      "All routes\n",
      "path is : [1, 2, 3]\n",
      "path is : [1, 2, 4, 3]\n",
      "\r\n"
     ]
    }
   ],
   "source": [
    "def show_paths(s):\n",
    "    \n",
    "    for i in  shipments:\n",
    "        print(\"Shipment_id:\",i)\n",
    "        print('\\r')\n",
    "        \n",
    "        \n",
    "        if i=='Shipment id':\n",
    "            continue\n",
    "       \n",
    "        s=int(shipments[i][4][-1])\n",
    "        print('Sender location:',s)\n",
    "\n",
    "        r=int(shipments[i][5][-1])\n",
    "        print('Receiver Location:',r)\n",
    "        print('All routes')\n",
    "        \n",
    "        find_all_paths(matrix,r-1,s-1,visited,path)\n",
    "        print('\\r')\n",
    "        \n",
    "        \n",
    "show_paths(shipments)"
   ]
  },
  {
   "cell_type": "code",
   "execution_count": null,
   "metadata": {},
   "outputs": [],
   "source": []
  },
  {
   "cell_type": "code",
   "execution_count": null,
   "metadata": {},
   "outputs": [],
   "source": []
  },
  {
   "cell_type": "code",
   "execution_count": null,
   "metadata": {},
   "outputs": [],
   "source": []
  }
 ],
 "metadata": {
  "kernelspec": {
   "display_name": "Python 3",
   "language": "python",
   "name": "python3"
  },
  "language_info": {
   "codemirror_mode": {
    "name": "ipython",
    "version": 3
   },
   "file_extension": ".py",
   "mimetype": "text/x-python",
   "name": "python",
   "nbconvert_exporter": "python",
   "pygments_lexer": "ipython3",
   "version": "3.8.5"
  }
 },
 "nbformat": 4,
 "nbformat_minor": 4
}
